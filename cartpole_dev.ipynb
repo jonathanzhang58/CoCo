{
 "cells": [
  {
   "cell_type": "code",
   "execution_count": 1,
   "metadata": {},
   "outputs": [
    {
     "ename": "KeyError",
     "evalue": "'CoCo'",
     "output_type": "error",
     "traceback": [
      "\u001b[1;31m---------------------------------------------------------------------------\u001b[0m",
      "\u001b[1;31mKeyError\u001b[0m                                  Traceback (most recent call last)",
      "Cell \u001b[1;32mIn[1], line 10\u001b[0m\n\u001b[0;32m      7\u001b[0m \u001b[38;5;28;01mimport\u001b[39;00m\u001b[38;5;250m \u001b[39m\u001b[38;5;21;01mnumpy\u001b[39;00m\u001b[38;5;250m \u001b[39m\u001b[38;5;28;01mas\u001b[39;00m\u001b[38;5;250m \u001b[39m\u001b[38;5;21;01mnp\u001b[39;00m\n\u001b[0;32m      8\u001b[0m \u001b[38;5;28;01mimport\u001b[39;00m\u001b[38;5;250m \u001b[39m\u001b[38;5;21;01mcvxpy\u001b[39;00m\u001b[38;5;250m \u001b[39m\u001b[38;5;28;01mas\u001b[39;00m\u001b[38;5;250m \u001b[39m\u001b[38;5;21;01mcp\u001b[39;00m\n\u001b[1;32m---> 10\u001b[0m \u001b[38;5;28;01mfrom\u001b[39;00m\u001b[38;5;250m \u001b[39m\u001b[38;5;21;01mcartpole\u001b[39;00m\u001b[38;5;21;01m.\u001b[39;00m\u001b[38;5;21;01mcartpole\u001b[39;00m\u001b[38;5;250m \u001b[39m\u001b[38;5;28;01mimport\u001b[39;00m Cartpole\n\u001b[0;32m     11\u001b[0m \u001b[38;5;28;01mimport\u001b[39;00m\u001b[38;5;250m \u001b[39m\u001b[38;5;21;01mpickle\u001b[39;00m\u001b[38;5;241m,\u001b[39m\u001b[38;5;250m \u001b[39m\u001b[38;5;21;01mos\u001b[39;00m\n",
      "File \u001b[1;32mc:\\Users\\jonat\\OneDrive\\Documents\\Tech\\Github\\Coco\\CoCo\\cartpole\\cartpole.py:9\u001b[0m\n\u001b[0;32m      6\u001b[0m \u001b[38;5;28;01mimport\u001b[39;00m\u001b[38;5;250m \u001b[39m\u001b[38;5;21;01msys\u001b[39;00m\n\u001b[0;32m      7\u001b[0m \u001b[38;5;28;01mimport\u001b[39;00m\u001b[38;5;250m \u001b[39m\u001b[38;5;21;01mpdb\u001b[39;00m\n\u001b[1;32m----> 9\u001b[0m sys\u001b[38;5;241m.\u001b[39mpath\u001b[38;5;241m.\u001b[39minsert(\u001b[38;5;241m1\u001b[39m, \u001b[43mos\u001b[49m\u001b[38;5;241;43m.\u001b[39;49m\u001b[43menviron\u001b[49m\u001b[43m[\u001b[49m\u001b[38;5;124;43m'\u001b[39;49m\u001b[38;5;124;43mCoCo\u001b[39;49m\u001b[38;5;124;43m'\u001b[39;49m\u001b[43m]\u001b[49m)\n\u001b[0;32m     11\u001b[0m \u001b[38;5;28;01mfrom\u001b[39;00m\u001b[38;5;250m \u001b[39m\u001b[38;5;21;01mcore\u001b[39;00m\u001b[38;5;250m \u001b[39m\u001b[38;5;28;01mimport\u001b[39;00m Problem\n\u001b[0;32m     13\u001b[0m \u001b[38;5;28;01mclass\u001b[39;00m\u001b[38;5;250m \u001b[39m\u001b[38;5;21;01mCartpole\u001b[39;00m(Problem):\n",
      "File \u001b[1;32m<frozen os>:714\u001b[0m, in \u001b[0;36m__getitem__\u001b[1;34m(self, key)\u001b[0m\n",
      "\u001b[1;31mKeyError\u001b[0m: 'CoCo'"
     ]
    }
   ],
   "source": [
    "%load_ext autoreload\n",
    "%autoreload 2\n",
    "\n",
    "import matplotlib.pyplot as plt\n",
    "%matplotlib inline\n",
    "\n",
    "import numpy as np\n",
    "import cvxpy as cp\n",
    "\n",
    "from cartpole.cartpole import Cartpole\n",
    "import pickle, os"
   ]
  },
  {
   "cell_type": "code",
   "execution_count": 2,
   "metadata": {},
   "outputs": [],
   "source": [
    "#load train/test data\n",
    "prob = Cartpole() #use default config, pass different config file oth.\n",
    "config_fn = './cartpole/config/default.p'\n",
    "\n",
    "config_file = open(config_fn,'rb')\n",
    "dataset_name, _, _ = pickle.load(config_file); config_file.close()\n",
    "\n",
    "relative_path = os.getcwd()\n",
    "dataset_fn = relative_path + '/cartpole/data/' + dataset_name\n",
    "\n",
    "train_file = open(dataset_fn+'/train.p','rb')\n",
    "train_data = pickle.load(train_file)\n",
    "train_file.close()\n",
    "\n",
    "test_file = open(dataset_fn+'/test.p','rb')\n",
    "test_data = pickle.load(test_file)\n",
    "p_test, x_test, u_test, y_test, c_test, times_test = test_data\n",
    "test_file.close()\n",
    "\n",
    "n_test = x_test.shape[0]"
   ]
  },
  {
   "cell_type": "markdown",
   "metadata": {},
   "source": [
    "# CoCo"
   ]
  },
  {
   "cell_type": "code",
   "execution_count": 3,
   "metadata": {},
   "outputs": [
    {
     "name": "stdout",
     "output_type": "stream",
     "text": [
      "34\n"
     ]
    }
   ],
   "source": [
    "from solvers.coco import CoCo\n",
    "\n",
    "system = 'cartpole'\n",
    "prob_features = ['x0', 'xg']\n",
    "coco_obj = CoCo(system, prob, prob_features)\n",
    "\n",
    "n_features = 8\n",
    "coco_obj.construct_strategies(n_features, train_data)\n",
    "print(coco_obj.n_strategies)"
   ]
  },
  {
   "cell_type": "code",
   "execution_count": 4,
   "metadata": {},
   "outputs": [
    {
     "name": "stdout",
     "output_type": "stream",
     "text": [
      "Loading presaved classifier model from models/mlopt_cartpole_20210118_1806.pt\n"
     ]
    },
    {
     "data": {
      "text/plain": [
       "FFNet(\n",
       "  (activation): ReLU()\n",
       "  (layers): ModuleList(\n",
       "    (0): Linear(in_features=8, out_features=32, bias=True)\n",
       "    (1): Linear(in_features=32, out_features=32, bias=True)\n",
       "    (2): Linear(in_features=32, out_features=32, bias=True)\n",
       "    (3): Linear(in_features=32, out_features=575, bias=True)\n",
       "  )\n",
       ")"
      ]
     },
     "execution_count": 4,
     "metadata": {},
     "output_type": "execute_result"
    }
   ],
   "source": [
    "coco_obj.setup_network(device_id=0)\n",
    "\n",
    "fn_saved = 'models/mlopt_cartpole_20200708_1029.pt'\n",
    "fn_saved = 'models/mlopt_cartpole_20210118_1806.pt'\n",
    "coco_obj.load_network(fn_saved)\n",
    "\n",
    "coco_obj.model"
   ]
  },
  {
   "cell_type": "code",
   "execution_count": null,
   "metadata": {},
   "outputs": [
    {
     "name": "stdout",
     "output_type": "stream",
     "text": [
      "/home/acauligi/cs_234/project/mlopt-micp/mlopt_cartpole_20210118_1806.pt\n"
     ]
    }
   ],
   "source": [
    "coco_obj.training_params['TRAINING_ITERATIONS'] = 500\n",
    "coco_obj.train(verbose=False)\n",
    "print(coco_obj.model_fn)"
   ]
  },
  {
   "cell_type": "code",
   "execution_count": null,
   "metadata": {},
   "outputs": [
    {
     "name": "stdout",
     "output_type": "stream",
     "text": [
      "0 / 10000\n"
     ]
    }
   ],
   "source": [
    "n_succ = 0\n",
    "count = 0\n",
    "\n",
    "costs_coco = []\n",
    "total_time_coco = []\n",
    "num_solves_coco = []\n",
    "\n",
    "cost_ratios_coco = []\n",
    "costs_ip = []\n",
    "total_time_ip = []\n",
    "num_solves_ip = []\n",
    "\n",
    "for ii in range(n_test):\n",
    "    if ii % 1000 == 0:\n",
    "        print('{} / {}'.format(ii,n_test))\n",
    "    prob_params = {}\n",
    "    for k in p_test.keys():\n",
    "        prob_params[k] = p_test[k][ii]\n",
    "\n",
    "    try:\n",
    "        prob_success, cost, total_time, n_evals, optvals = coco_obj.forward(prob_params)\n",
    "\n",
    "        count += 1\n",
    "        if prob_success:\n",
    "            n_succ += 1\n",
    "            costs_coco += [cost]\n",
    "            total_time_coco += [total_time]\n",
    "            num_solves_coco += [n_evals]\n",
    "\n",
    "            true_cost = c_test[ii]\n",
    "            costs_ip += [true_cost]\n",
    "            total_time_ip += [times_test[ii]]\n",
    "\n",
    "            cost_ratios_coco += [cost / true_cost]\n",
    "    except (KeyboardInterrupt, SystemExit):\n",
    "        raise\n",
    "    except:\n",
    "        print('Solver failed at {}'.format(ii))\n",
    "        continue\n",
    "\n",
    "costs_coco = np.array(costs_coco)\n",
    "cost_ratios_coco = np.array(cost_ratios_coco)\n",
    "total_time_coco = np.array(total_time_coco)\n",
    "num_solves_coco = np.array(num_solves_coco, dtype=int)\n",
    "\n",
    "costs_ip = np.array(costs_ip)\n",
    "total_time_ip = np.array(total_time_ip)\n",
    "num_solves_ip = np.array(num_solves_ip, dtype=int)\n",
    "\n",
    "coco_percentage = 100 * float(n_succ) / float(count)\n",
    "coco_percentage"
   ]
  },
  {
   "cell_type": "markdown",
   "metadata": {},
   "source": [
    "# test Regression solver"
   ]
  },
  {
   "cell_type": "code",
   "execution_count": 5,
   "metadata": {},
   "outputs": [],
   "source": [
    "from solvers.regression import Regression\n",
    "\n",
    "system = 'cartpole'\n",
    "prob_features = ['x0', 'xg']\n",
    "reg_obj = Regression(system, prob, prob_features)\n",
    "\n",
    "n_features = 8\n",
    "reg_obj.construct_strategies(n_features, train_data)"
   ]
  },
  {
   "cell_type": "code",
   "execution_count": 6,
   "metadata": {},
   "outputs": [
    {
     "name": "stdout",
     "output_type": "stream",
     "text": [
      "Loading presaved regression model from models/regression_cartpole_20210118_1832.pt\n"
     ]
    },
    {
     "data": {
      "text/plain": [
       "FFNet(\n",
       "  (activation): ReLU()\n",
       "  (layers): ModuleList(\n",
       "    (0): Linear(in_features=8, out_features=32, bias=True)\n",
       "    (1): Linear(in_features=32, out_features=32, bias=True)\n",
       "    (2): Linear(in_features=32, out_features=32, bias=True)\n",
       "    (3): Linear(in_features=32, out_features=40, bias=True)\n",
       "  )\n",
       ")"
      ]
     },
     "execution_count": 6,
     "metadata": {},
     "output_type": "execute_result"
    }
   ],
   "source": [
    "reg_obj.setup_network()\n",
    "\n",
    "fn_saved = 'models/regression_cartpole_20200708_1029.pt'\n",
    "fn_saved = 'models/regression_cartpole_20210118_1832.pt'\n",
    "reg_obj.load_network(fn_saved)\n",
    "\n",
    "reg_obj.model"
   ]
  },
  {
   "cell_type": "code",
   "execution_count": null,
   "metadata": {},
   "outputs": [],
   "source": [
    "reg_obj.training_params['TRAINING_ITERATIONS'] = 500\n",
    "reg_obj.train(verbose=False)\n",
    "print(reg_obj.model_fn)"
   ]
  },
  {
   "cell_type": "code",
   "execution_count": null,
   "metadata": {},
   "outputs": [],
   "source": [
    "n_succ = 0\n",
    "count = 0\n",
    "\n",
    "costs_reg = []\n",
    "total_time_reg = []\n",
    "num_solves_reg = []\n",
    "\n",
    "cost_ratios_reg = []\n",
    "\n",
    "for ii in range(n_test):\n",
    "    prob_params = {}\n",
    "    for k in p_test.keys():\n",
    "        prob_params[k] = p_test[k][ii]\n",
    "\n",
    "    try:\n",
    "        prob_success, cost, total_time, optvals = reg_obj.forward(prob_params)\n",
    "\n",
    "        count += 1\n",
    "        if prob_success:\n",
    "            n_succ += 1\n",
    "            costs_reg += [cost]\n",
    "            total_time_reg += [total_time]\n",
    "            num_solves_reg += [1]\n",
    "\n",
    "            true_cost = c_test[ii]\n",
    "            cost_ratios_reg += [cost / true_cost]\n",
    "    except (KeyboardInterrupt, SystemExit):\n",
    "        raise\n",
    "    except:\n",
    "        print('Solver failed at {}'.format(ii))\n",
    "        continue\n",
    "\n",
    "costs_reg = np.array(costs_reg)\n",
    "cost_ratios_reg = np.array(cost_ratios_reg)\n",
    "total_time_reg = np.array(total_time_reg)\n",
    "num_solves_reg = np.array(num_solves_reg, dtype=int)\n",
    "\n",
    "reg_percentage = 100 * float(n_succ) / float(count)\n",
    "reg_percentage"
   ]
  },
  {
   "cell_type": "markdown",
   "metadata": {},
   "source": [
    "# Martius & Zhu (2019)"
   ]
  },
  {
   "cell_type": "code",
   "execution_count": 7,
   "metadata": {},
   "outputs": [],
   "source": [
    "from solvers.knn import KNN"
   ]
  },
  {
   "cell_type": "code",
   "execution_count": 8,
   "metadata": {},
   "outputs": [],
   "source": [
    "system = 'cartpole'\n",
    "prob_features = ['x0', 'xg']\n",
    "\n",
    "knn_obj = KNN(system, prob, prob_features, knn=coco_obj.n_evals)\n",
    "\n",
    "n_features = 8\n",
    "knn_obj.train(n_features, train_data)"
   ]
  },
  {
   "cell_type": "code",
   "execution_count": null,
   "metadata": {},
   "outputs": [],
   "source": [
    "n_succ = 0\n",
    "count = 0\n",
    "\n",
    "costs_knn = []\n",
    "total_time_knn = []\n",
    "num_solves_knn = []\n",
    "\n",
    "cost_ratios_knn = []\n",
    "\n",
    "for ii in range(n_test):\n",
    "    if ii % 1000 == 0:\n",
    "        print('{} / {}'.format(ii,n_test))\n",
    "    prob_params = {}\n",
    "    for k in p_test.keys():\n",
    "        prob_params[k] = p_test[k][ii]\n",
    "\n",
    "    try:\n",
    "        prob_success, cost, total_time, n_evals, optvals = knn_obj.forward(prob_params, solver=cp.MOSEK)\n",
    "\n",
    "        count += 1\n",
    "        if prob_success:\n",
    "            n_succ += 1\n",
    "            costs_knn += [cost]\n",
    "            total_time_knn += [total_time]\n",
    "            num_solves_knn += [n_evals]\n",
    "\n",
    "            true_cost = c_test[ii]\n",
    "            cost_ratios_knn += [cost / true_cost]\n",
    "    except (KeyboardInterrupt, SystemExit):\n",
    "        raise\n",
    "    except:\n",
    "        print('Solver failed at {}'.format(ii))\n",
    "        continue\n",
    "\n",
    "costs_knn = np.array(costs_knn)\n",
    "cost_ratios_knn = np.array(cost_ratios_knn)\n",
    "total_time_knn = np.array(total_time_knn)\n",
    "num_solves_knn = np.array(num_solves_knn, dtype=int)\n",
    "\n",
    "knn_percentage = 100 * float(n_succ) / float(count)\n",
    "knn_percentage"
   ]
  },
  {
   "cell_type": "markdown",
   "metadata": {},
   "source": [
    "# Mosek\n",
    "\n",
    "### Make sure set value for max number of feasible solutions for solver"
   ]
  },
  {
   "cell_type": "code",
   "execution_count": 13,
   "metadata": {},
   "outputs": [
    {
     "name": "stdout",
     "output_type": "stream",
     "text": [
      "Cutoff time for Mosek: 0.028708934783935547\n"
     ]
    }
   ],
   "source": [
    "print('Cutoff time for Mosek: {}'.format(np.max(total_time_coco)))"
   ]
  },
  {
   "cell_type": "code",
   "execution_count": null,
   "metadata": {},
   "outputs": [
    {
     "name": "stdout",
     "output_type": "stream",
     "text": [
      "0 / 10000\n"
     ]
    }
   ],
   "source": [
    "solver = cp.MOSEK\n",
    "\n",
    "n_succ = 0\n",
    "count = 0\n",
    "\n",
    "costs_sol = []\n",
    "cost_ratios_sol = []\n",
    "total_time_sol = []\n",
    "\n",
    "for ii in range(n_test):\n",
    "    count += 1\n",
    "    if ii % 1000 == 0:\n",
    "        print('{} / {}'.format(ii,n_test))\n",
    "    prob_params = {}\n",
    "    for k in p_test.keys():\n",
    "        prob_params[k] = p_test[k][ii]\n",
    "\n",
    "    try:\n",
    "        prob_success, cost, total_time, optvals = prob.solve_micp(prob_params, solver=solver)\n",
    "\n",
    "        if prob_success:\n",
    "            n_succ += 1\n",
    "            costs_sol += [cost]\n",
    "\n",
    "            true_cost = c_test[ii]\n",
    "            cost_ratios_sol += [cost / true_cost]\n",
    "            total_time_sol += [total_time]\n",
    "    except (KeyboardInterrupt, SystemExit):\n",
    "        raise\n",
    "    except:\n",
    "#         print('Solver failed at {}'.format(ii))\n",
    "        continue\n",
    "\n",
    "costs_sol = np.array(costs_sol)\n",
    "cost_ratios_sol = np.array(cost_ratios_sol)\n",
    "total_time_sol = np.array(total_time_sol)\n",
    "\n",
    "sol_percentage = 100 * float(n_succ) / float(count)\n",
    "sol_percentage"
   ]
  },
  {
   "cell_type": "markdown",
   "metadata": {},
   "source": [
    "# Results"
   ]
  },
  {
   "cell_type": "code",
   "execution_count": 3,
   "metadata": {},
   "outputs": [],
   "source": [
    "import math\n",
    "import seaborn as sns\n",
    "sns.set(font_scale=2., font=\"serif\", style=\"whitegrid\")\n",
    "import pandas as pd\n",
    "import h5py\n",
    "import matplotlib\n",
    "\n",
    "flierprops = {'alpha':0.2}\n",
    "\n",
    "params = {\n",
    "#     'backend': 'ps',\n",
    "#               'text.latex.preamble': ['\\\\usepackage{gensymb}'],\n",
    "#               'axes.labelsize': 12, # fontsize for x and y labels (was 12 and before 10)\n",
    "#               'axes.titlesize': 12,\n",
    "#               'font.size': 12, # was 12 and before 10\n",
    "              'legend.fontsize': 26, # was 12 and before 10\n",
    "#               'xtick.labelsize': 12,\n",
    "#               'ytick.labelsize': 12,\n",
    "#               'text.usetex': True,\n",
    "#               'font.family': 'serif',\n",
    "#               'font.sans-serif':['Helvetica Neue']\n",
    "    }\n",
    "\n",
    "sns.set(font_scale=2.5)\n",
    "matplotlib.rcParams.update(params)"
   ]
  },
  {
   "cell_type": "code",
   "execution_count": 21,
   "metadata": {},
   "outputs": [],
   "source": [
    "# hf = h5py.File('cartpole_dev.h5', 'w')\n",
    "\n",
    "# hf.create_dataset('percentage', data=np.expand_dims(np.asarray([sol_percentage, mlopt_percentage, reg_percentage, knn_percentage]), axis=1))\n",
    "\n",
    "# num_solves_grp = hf.create_group('num_solves')\n",
    "# num_solves_grp.create_dataset('num_solves_mlopt', data=np.expand_dims(num_solves_mlopt, axis=1))\n",
    "# num_solves_grp.create_dataset('num_solves_reg', data=np.expand_dims(num_solves_reg, axis=1))\n",
    "# num_solves_grp.create_dataset('num_solves_knn', data=np.expand_dims(num_solves_knn, axis=1))\n",
    "\n",
    "# total_time_grp = hf.create_group('total_time')\n",
    "# total_time_grp.create_dataset('total_time_sol', data=np.expand_dims(total_time_sol, axis=1))\n",
    "# total_time_grp.create_dataset('total_time_mlopt', data=np.expand_dims(total_time_mlopt, axis=1))\n",
    "# total_time_grp.create_dataset('total_time_reg', data=np.expand_dims(total_time_reg, axis=1))\n",
    "# total_time_grp.create_dataset('total_time_knn', data=np.expand_dims(total_time_knn, axis=1))\n",
    "\n",
    "# cost_ratios_grp = hf.create_group('cost_ratios')\n",
    "# cost_ratios_grp.create_dataset('cost_ratios_sol', data=np.expand_dims(cost_ratios_sol, axis=1))\n",
    "# cost_ratios_grp.create_dataset('cost_ratios_mlopt', data=np.expand_dims(cost_ratios_mlopt, axis=1))\n",
    "# cost_ratios_grp.create_dataset('cost_ratios_reg', data=np.expand_dims(cost_ratios_reg, axis=1))\n",
    "# cost_ratios_grp.create_dataset('cost_ratios_knn', data=np.expand_dims(cost_ratios_knn, axis=1))\n",
    "\n",
    "# hf.close()"
   ]
  },
  {
   "cell_type": "code",
   "execution_count": 5,
   "metadata": {},
   "outputs": [],
   "source": [
    "hf = h5py.File('cartpole_dev.h5', 'r')\n",
    "\n",
    "num_solves_grp = hf.get('num_solves')\n",
    "num_solves_coco = np.squeeze(np.array(num_solves_grp.get('num_solves_mlopt')))\n",
    "num_solves_reg = np.squeeze(np.array(num_solves_grp.get('num_solves_reg')))\n",
    "num_solves_knn = np.squeeze(np.array(num_solves_grp.get('num_solves_knn')))\n",
    "\n",
    "total_time_grp = hf.get('total_time')\n",
    "total_time_sol = np.ndarray.tolist(np.squeeze(np.array(total_time_grp.get('total_time_sol'))))\n",
    "total_time_coco = np.ndarray.tolist(np.squeeze(np.array(total_time_grp.get('total_time_mlopt'))))\n",
    "total_time_reg = np.ndarray.tolist(np.squeeze(np.array(total_time_grp.get('total_time_reg'))))\n",
    "total_time_knn = np.ndarray.tolist(np.squeeze(np.array(total_time_grp.get('total_time_knn'))))\n",
    "\n",
    "cost_ratios_grp = hf.get('cost_ratios')\n",
    "cost_ratios_sol = np.squeeze(np.array(cost_ratios_grp.get('cost_ratios_sol')))\n",
    "cost_ratios_coco = np.squeeze(np.array(cost_ratios_grp.get('cost_ratios_mlopt')))\n",
    "cost_ratios_reg = np.squeeze(np.array(cost_ratios_grp.get('cost_ratios_reg')))\n",
    "cost_ratios_knn = np.squeeze(np.array(cost_ratios_grp.get('cost_ratios_knn')))\n",
    "\n",
    "sol_percentage, coco_percentage, reg_percentage, knn_percentage = np.ndarray.tolist(np.squeeze(np.array(hf.get('percentage'))))\n",
    "\n",
    "hf.close()"
   ]
  },
  {
   "cell_type": "code",
   "execution_count": 8,
   "metadata": {},
   "outputs": [
    {
     "data": {
      "image/png": "[encoded data removed]",
      "text/plain": [
       "<Figure size 576x288 with 1 Axes>"
      ]
     },
     "metadata": {},
     "output_type": "display_data"
    }
   ],
   "source": [
    "results = {'Mosek':[sol_percentage], 'CoCo':[coco_percentage], 'Reg.':[reg_percentage], 'KNN':[knn_percentage]}\n",
    "results = pd.DataFrame(results)\n",
    "\n",
    "plt.figure(figsize=(8,4))\n",
    "plt.ylim(0,100)\n",
    "plt.tight_layout()\n",
    "\n",
    "ax1 = sns.barplot(data=results, palette=\"Set3\")\n",
    "# ax1.set(xlabel=\"\", ylabel=\"Percent Success\")\n",
    "ax1.set(xlabel=\"\", ylabel=\"\")\n",
    "\n",
    "figure = ax1.get_figure()\n",
    "figure.savefig(\"cartpole_percent_success.png\", bbox_inches='tight')"
   ]
  },
  {
   "cell_type": "code",
   "execution_count": 36,
   "metadata": {},
   "outputs": [
    {
     "data": {
      "text/plain": [
       "90.61"
      ]
     },
     "execution_count": 36,
     "metadata": {},
     "output_type": "execute_result"
    }
   ],
   "source": [
    "np.sum(cost_ratios_coco < 1.01) / len(cost_ratios_coco)\n",
    "np.sum(cost_ratios_sol < 1.01) / len(cost_ratios_sol)\n",
    "np.sum(num_solves_coco <= 1) / len(num_solves_coco)\n",
    "sol_percentage"
   ]
  },
  {
   "cell_type": "code",
   "execution_count": 9,
   "metadata": {},
   "outputs": [
    {
     "data": {
      "image/png": "[encoded data removed]",
      "text/plain": [
       "<Figure size 576x288 with 1 Axes>"
      ]
     },
     "metadata": {},
     "output_type": "display_data"
    }
   ],
   "source": [
    "results = {}\n",
    "results['Policy'] = ['CoCo']*len(num_solves_coco) + ['Reg.']*len(num_solves_reg) + ['KNN']*len(num_solves_knn)\n",
    "results['Solves'] = np.hstack((np.log10(num_solves_coco), np.log10(num_solves_reg), np.log10(num_solves_knn)))\n",
    "results = pd.DataFrame(results)\n",
    "\n",
    "plt.figure(figsize=(8,4))\n",
    "plt.ylim(0,1.05)\n",
    "plt.tight_layout()\n",
    "\n",
    "ax1 = sns.boxplot(x=results['Policy'], y=results['Solves'], palette=\"Set3\", flierprops=flierprops)                            \n",
    "# ax1.set(xlabel=\"\", ylabel=\"log(QPs Solved)\")\n",
    "ax1.set(xlabel=\"\", ylabel=\"\")\n",
    "\n",
    "figure = ax1.get_figure()\n",
    "figure.savefig(\"cartpole_solved.png\", bbox_inches='tight')"
   ]
  },
  {
   "cell_type": "code",
   "execution_count": 10,
   "metadata": {},
   "outputs": [
    {
     "data": {
      "image/png": "[encoded data removed]",
      "text/plain": [
       "<Figure size 576x288 with 1 Axes>"
      ]
     },
     "metadata": {},
     "output_type": "display_data"
    }
   ],
   "source": [
    "results = {}\n",
    "results['Policy'] = ['Mosek']*len(total_time_sol) +  ['CoCo']*len(total_time_coco) + ['Reg.']*len(total_time_reg) + ['KNN']*len(total_time_knn)\n",
    "results['Time'] = np.hstack((np.log10(total_time_sol), np.log10(total_time_coco), np.log10(total_time_reg), np.log10(total_time_knn)))\n",
    "results = pd.DataFrame(results)\n",
    "\n",
    "plt.figure(figsize=(8,4))\n",
    "plt.tight_layout()\n",
    "\n",
    "ax1 = sns.boxplot(x=results['Policy'], y=results['Time'], palette=\"Set3\", flierprops=flierprops)\n",
    "ax1.set(xlabel=\"\", ylabel=\"Time [s]\")\n",
    "ax1.set(xlabel=\"\", ylabel=\"\")\n",
    "\n",
    "figure = ax1.get_figure()\n",
    "figure.savefig(\"cartpole_time.png\", bbox_inches='tight')"
   ]
  },
  {
   "cell_type": "code",
   "execution_count": 11,
   "metadata": {},
   "outputs": [
    {
     "data": {
      "image/png": "[encoded data removed]",
      "text/plain": [
       "<Figure size 576x288 with 1 Axes>"
      ]
     },
     "metadata": {},
     "output_type": "display_data"
    }
   ],
   "source": [
    "results = {}\n",
    "results['Policy'] = ['Mosek']*len(cost_ratios_sol) + ['CoCo']*len(cost_ratios_coco) + ['Reg.']*len(cost_ratios_reg) + ['KNN']*len(cost_ratios_knn)\n",
    "results['Costs'] = np.hstack((100*cost_ratios_sol, 100*cost_ratios_coco, 100*cost_ratios_reg, 100*cost_ratios_knn))\n",
    "results = pd.DataFrame(results)\n",
    "\n",
    "plt.figure(figsize=(8,4))\n",
    "plt.ylim(99,1000)\n",
    "plt.yticks([100, 250, 500, 750, 1000])\n",
    "plt.tight_layout()\n",
    "\n",
    "ax1 = sns.boxplot(x=results['Policy'], y=results['Costs'], palette=\"Set3\", flierprops=flierprops)\n",
    "ax1.set(xlabel=\"\", ylabel=\"Relative Cost [%]\")\n",
    "ax1.set(xlabel=\"\", ylabel=\"\")\n",
    "\n",
    "figure = ax1.get_figure()\n",
    "figure.savefig(\"cartpole_cost.png\", bbox_inches='tight')"
   ]
  },
  {
   "cell_type": "code",
   "execution_count": null,
   "metadata": {},
   "outputs": [],
   "source": []
  }
 ],
 "metadata": {
  "kernelspec": {
   "display_name": ".venv",
   "language": "python",
   "name": "python3"
  },
  "language_info": {
   "codemirror_mode": {
    "name": "ipython",
    "version": 3
   },
   "file_extension": ".py",
   "mimetype": "text/x-python",
   "name": "python",
   "nbconvert_exporter": "python",
   "pygments_lexer": "ipython3",
   "version": "3.12.9"
  }
 },
 "nbformat": 4,
 "nbformat_minor": 4
}
